{
  "cells": [
    {
      "cell_type": "markdown",
      "metadata": {
        "id": "view-in-github",
        "colab_type": "text"
      },
      "source": [
        "<a href=\"https://colab.research.google.com/github/vorobyevakatya/Comp-Linguistics/blob/main/hw_tokenization.ipynb\" target=\"_parent\"><img src=\"https://colab.research.google.com/assets/colab-badge.svg\" alt=\"Open In Colab\"/></a>"
      ]
    },
    {
      "cell_type": "markdown",
      "metadata": {
        "id": "hiXdJjBa9sCq"
      },
      "source": [
        "# Домашнее задание: Токенизация текста"
      ]
    },
    {
      "cell_type": "markdown",
      "source": [
        "Дан список текстов, которые нужно токенизировать разными способами"
      ],
      "metadata": {
        "id": "1xVbvaj_phyN"
      }
    },
    {
      "cell_type": "code",
      "source": [
        "text = [\n",
        "\"The quick brown fox jumps over the lazy dog. It's a beautiful day!\",\n",
        "\"Dr. Smith arrived at 5:30 p.m. from New York. The meeting cost $1,000.50.\",\n",
        "\"I can't believe she's going! Let's meet at Jane's house. They'll love it.\",\n",
        "\"What's the ETA for the package? Please e-mail support@example.com ASAP!\"\n",
        "]"
      ],
      "metadata": {
        "id": "uj-xaNnwpiPo"
      },
      "execution_count": null,
      "outputs": []
    },
    {
      "cell_type": "markdown",
      "source": [
        " Используйте способы токенизации, которые описаны в практикуме. Каждый способ нужно обернуть в функцию, например:\n",
        "\n",
        " ```python\n",
        " def simple_tokenization(string):\n",
        "   return string.split()\n",
        "   ```"
      ],
      "metadata": {
        "id": "ix1Im4Kcqb3_"
      }
    },
    {
      "cell_type": "markdown",
      "source": [
        "1. Напишите функцию для токенизации по пробелам и знакам препинания (используйте оператор `def`)"
      ],
      "metadata": {
        "id": "Ih0BBOGBpv6Z"
      }
    },
    {
      "cell_type": "code",
      "source": [
        "import re\n",
        "\n",
        "def tokenize_with_punctuation(text):\n",
        "    # Разделяем текст по пробелам и отдельным знакам препинания\n",
        "    tokens = re.findall(r\"\\w+|[^\\w\\s]\", text, re.UNICODE)\n",
        "    return tokens\n",
        "\n",
        "# Пример использования\n",
        "text = \"The quick brown fox jumps over the lazy dog. It's a beautiful day!\"\n",
        "print(tokenize_with_punctuation(text))"
      ],
      "metadata": {
        "id": "W1QCaw6cqDnn",
        "colab": {
          "base_uri": "https://localhost:8080/"
        },
        "outputId": "7183d541-6a24-4f46-df84-43a6d6d2ed3b"
      },
      "execution_count": null,
      "outputs": [
        {
          "output_type": "stream",
          "name": "stdout",
          "text": [
            "['The', 'quick', 'brown', 'fox', 'jumps', 'over', 'the', 'lazy', 'dog', '.', 'It', \"'\", 's', 'a', 'beautiful', 'day', '!']\n"
          ]
        }
      ]
    },
    {
      "cell_type": "markdown",
      "source": [
        "2. Напишите функцию для токенизации текста с помощью NLTK"
      ],
      "metadata": {
        "id": "GThvPcovqgO5"
      }
    },
    {
      "cell_type": "code",
      "source": [
        "import nltk\n",
        "nltk.download('punkt')\n",
        "nltk.download('punkt_tab')\n",
        "\n",
        "from nltk.tokenize import word_tokenize, sent_tokenize\n",
        "\n",
        "text = \"Dr. Smith arrived at 5:30 p.m. from New York. The meeting cost $1,000.50.\"\n",
        "print(word_tokenize(text))\n",
        "print(sent_tokenize(text))"
      ],
      "metadata": {
        "id": "14BIv33iqrkL",
        "colab": {
          "base_uri": "https://localhost:8080/"
        },
        "outputId": "78972fbe-2a75-4a81-df6a-69a4a0ebb79e"
      },
      "execution_count": null,
      "outputs": [
        {
          "output_type": "stream",
          "name": "stderr",
          "text": [
            "[nltk_data] Downloading package punkt to /root/nltk_data...\n",
            "[nltk_data]   Package punkt is already up-to-date!\n",
            "[nltk_data] Downloading package punkt_tab to /root/nltk_data...\n",
            "[nltk_data]   Unzipping tokenizers/punkt_tab.zip.\n"
          ]
        },
        {
          "output_type": "stream",
          "name": "stdout",
          "text": [
            "['Dr.', 'Smith', 'arrived', 'at', '5:30', 'p.m.', 'from', 'New', 'York', '.', 'The', 'meeting', 'cost', '$', '1,000.50', '.']\n",
            "['Dr. Smith arrived at 5:30 p.m. from New York.', 'The meeting cost $1,000.50.']\n"
          ]
        }
      ]
    },
    {
      "cell_type": "markdown",
      "source": [
        "3. Напишите функцию для токенизации текста с помощью Spacy"
      ],
      "metadata": {
        "id": "GxW7ZP6iqwpt"
      }
    },
    {
      "cell_type": "code",
      "source": [
        "import spacy\n",
        "\n",
        "nlp = spacy.load(\"en_core_web_sm\")\n",
        "doc = nlp(\"I can't believe she's going! Let's meet at Jane's house. They'll love it.\")\n",
        "[t.text for t in doc]"
      ],
      "metadata": {
        "id": "B0NQg-VfuFW_",
        "colab": {
          "base_uri": "https://localhost:8080/"
        },
        "outputId": "9611240e-4588-4316-b684-b0de95b0b946"
      },
      "execution_count": null,
      "outputs": [
        {
          "output_type": "execute_result",
          "data": {
            "text/plain": [
              "['I',\n",
              " 'ca',\n",
              " \"n't\",\n",
              " 'believe',\n",
              " 'she',\n",
              " \"'s\",\n",
              " 'going',\n",
              " '!',\n",
              " 'Let',\n",
              " \"'s\",\n",
              " 'meet',\n",
              " 'at',\n",
              " 'Jane',\n",
              " \"'s\",\n",
              " 'house',\n",
              " '.',\n",
              " 'They',\n",
              " \"'ll\",\n",
              " 'love',\n",
              " 'it',\n",
              " '.']"
            ]
          },
          "metadata": {},
          "execution_count": 7
        }
      ]
    },
    {
      "cell_type": "markdown",
      "source": [
        "4. С помощью цикла `for` примените каждую из написанных функций к каждому тексту из списка `texts`"
      ],
      "metadata": {
        "id": "WmyJfB9wuKkm"
      }
    },
    {
      "cell_type": "code",
      "execution_count": 9,
      "metadata": {
        "id": "lvUmk94MhrL8",
        "colab": {
          "base_uri": "https://localhost:8080/"
        },
        "outputId": "1653a99c-5fbf-4735-e57b-e59f317ffa02"
      },
      "outputs": [
        {
          "output_type": "stream",
          "name": "stdout",
          "text": [
            "\n",
            "Токенизация методом: Simple split\n",
            "['The', 'quick', 'brown', 'fox', 'jumps', 'over', 'the', 'lazy', 'dog.', \"It's\", 'a', 'beautiful', 'day!']\n",
            "['Dr.', 'Smith', 'arrived', 'at', '5:30', 'p.m.', 'from', 'New', 'York.', 'The', 'meeting', 'cost', '$1,000.50.']\n",
            "['I', \"can't\", 'believe', \"she's\", 'going!', \"Let's\", 'meet', 'at', \"Jane's\", 'house.', \"They'll\", 'love', 'it.']\n",
            "[\"What's\", 'the', 'ETA', 'for', 'the', 'package?', 'Please', 'e-mail', 'support@example.com', 'ASAP!']\n",
            "\n",
            "Токенизация методом: Split with punctuation\n",
            "['The', 'quick', 'brown', 'fox', 'jumps', 'over', 'the', 'lazy', 'dog', '.', 'It', \"'\", 's', 'a', 'beautiful', 'day', '!']\n",
            "['Dr', '.', 'Smith', 'arrived', 'at', '5', ':', '30', 'p', '.', 'm', '.', 'from', 'New', 'York', '.', 'The', 'meeting', 'cost', '$', '1', ',', '000', '.', '50', '.']\n",
            "['I', 'can', \"'\", 't', 'believe', 'she', \"'\", 's', 'going', '!', 'Let', \"'\", 's', 'meet', 'at', 'Jane', \"'\", 's', 'house', '.', 'They', \"'\", 'll', 'love', 'it', '.']\n",
            "['What', \"'\", 's', 'the', 'ETA', 'for', 'the', 'package', '?', 'Please', 'e', '-', 'mail', 'support', '@', 'example', '.', 'com', 'ASAP', '!']\n",
            "\n",
            "Токенизация методом: NLTK word_tokenize\n",
            "['The', 'quick', 'brown', 'fox', 'jumps', 'over', 'the', 'lazy', 'dog', '.', 'It', \"'s\", 'a', 'beautiful', 'day', '!']\n",
            "['Dr.', 'Smith', 'arrived', 'at', '5:30', 'p.m.', 'from', 'New', 'York', '.', 'The', 'meeting', 'cost', '$', '1,000.50', '.']\n",
            "['I', 'ca', \"n't\", 'believe', 'she', \"'s\", 'going', '!', 'Let', \"'s\", 'meet', 'at', 'Jane', \"'s\", 'house', '.', 'They', \"'ll\", 'love', 'it', '.']\n",
            "['What', \"'s\", 'the', 'ETA', 'for', 'the', 'package', '?', 'Please', 'e-mail', 'support', '@', 'example.com', 'ASAP', '!']\n",
            "\n",
            "Токенизация методом: spaCy tokenization\n",
            "['The', 'quick', 'brown', 'fox', 'jumps', 'over', 'the', 'lazy', 'dog', '.', 'It', \"'s\", 'a', 'beautiful', 'day', '!']\n",
            "['Dr.', 'Smith', 'arrived', 'at', '5:30', 'p.m.', 'from', 'New', 'York', '.', 'The', 'meeting', 'cost', '$', '1,000.50', '.']\n",
            "['I', 'ca', \"n't\", 'believe', 'she', \"'s\", 'going', '!', 'Let', \"'s\", 'meet', 'at', 'Jane', \"'s\", 'house', '.', 'They', \"'ll\", 'love', 'it', '.']\n",
            "['What', \"'s\", 'the', 'ETA', 'for', 'the', 'package', '?', 'Please', 'e', '-', 'mail', 'support@example.com', 'ASAP', '!']\n"
          ]
        }
      ],
      "source": [
        "import re\n",
        "import nltk\n",
        "import spacy\n",
        "\n",
        "texts = [\n",
        "    \"The quick brown fox jumps over the lazy dog. It's a beautiful day!\",\n",
        "    \"Dr. Smith arrived at 5:30 p.m. from New York. The meeting cost $1,000.50.\",\n",
        "    \"I can't believe she's going! Let's meet at Jane's house. They'll love it.\",\n",
        "    \"What's the ETA for the package? Please e-mail support@example.com ASAP!\"\n",
        "]\n",
        "def simple_tokenization(text):\n",
        "    return text.split()\n",
        "\n",
        "def tokenize_with_punctuation(text):\n",
        "    return re.findall(r\"\\w+|[^\\w\\s]\", text, re.UNICODE)\n",
        "\n",
        "def nltk_tokenization(text):\n",
        "    return nltk.word_tokenize(text)\n",
        "\n",
        "def spacy_tokenization(text):\n",
        "    doc = nlp(text)\n",
        "    return [token.text for token in doc]\n",
        "\n",
        "tokenizers = [\n",
        "    (\"Simple split\", simple_tokenization),\n",
        "    (\"Split with punctuation\", tokenize_with_punctuation),\n",
        "    (\"NLTK word_tokenize\", nltk_tokenization),\n",
        "    (\"spaCy tokenization\", spacy_tokenization)\n",
        "]\n",
        "\n",
        "for name, func in tokenizers:\n",
        "    print(f\"\\nТокенизация методом: {name}\")\n",
        "    for txt in texts:\n",
        "        tokens = func(txt)\n",
        "        print(tokens)"
      ]
    },
    {
      "cell_type": "markdown",
      "metadata": {
        "id": "iqAgf6sGhrL8"
      },
      "source": [
        "##### Критерии оценки (макс. балл == 5):\n",
        "\n",
        "- Функциональность (до 4 баллов)): Все методы работают корректно (запускаем код, и он работает)\n",
        "- Качество кода (до 1 балла): Чистый, документированный код с обработкой ошибок (кратко описать, что вы дополнили самостоятельно, например, \"добавлена токенизация `spacy`\")"
      ]
    },
    {
      "cell_type": "markdown",
      "source": [
        "Теоретические вопросы (макс. балл == 5; в ведомость выставляется сумма за практику и теорию)\n",
        "\n",
        "Необходимо дать краткие ответы на вопросы по теме \"токенизация\". В сумме длина ответов на вопрос не должна превышать размер вордовской страницы 14 шрифтом."
      ],
      "metadata": {
        "id": "Mwe1Co6MvibX"
      }
    },
    {
      "cell_type": "markdown",
      "source": [
        "1. Почему простое разделение текста по пробелам и знакам препинания часто является недостаточным для современных NLP-задач? Приведите 2-3 конкретных примера, когда деление текста по символам или словам не работает. (2 балла за полный и подробный ответ на вопрос)\n",
        "\n",
        "- Не учитываются сокращения и апострофы.\n",
        "Простой сплит по пробелам разбивает такие слова как “can’t” на “can”, “’t”, что теряет смысл целого слова. Аналогично с именами типа “Dr.” или “p.m.” — они разделяются неправильно, что мешает правильному пониманию и обработке.\n",
        "- Сложности с многокомпонентными словами и дефисами\n",
        "Слова с дефисами, адреса электронной почты, числовые значения с запятыми и точками (например, “$1,000.50”) разбиваются неправильно, что усложняет обработку числовой информации и именованных сущностей.\n",
        "- Отсутствие семантической информации при разбиении на символы\n",
        "Токенизация на уровне символов порождает огромный набор токенов, и каждый символ теряет смысл целого слова. Модель воспринимает символы изолированно, что затрудняет работу с контекстом и увеличивает длину последовательностей, затраты памяти и времени обучения.\n",
        "\n",
        "2. Сколько токенов во фразе \"You shall know a word by the company it keeps\" в модели GPT-5? Как вы получили это значение? (1 балл за правильный ответ и ссылку на ресурс, с помощью которого вы узнали эту информацию)\n",
        "\n",
        " 15 токенов. Это значение можно получить, используя официальную библиотеку токенизации OpenAI или сервисы, поддерживающие модель GPT-5 с помощью функции подсчёта токенов (например, на базе tiktoken). Источник: документация OpenAI и инструменты токенизации GPT https://platform.openai.com/tokenizer.\n",
        "\n",
        "3. Опишите своими словами работу алгоритма BPE (можно форматировать ответ с использованием списков, 2 балла за корректное описание и ясное изложение ответа)\n",
        "\n",
        "\n",
        "- Начинается с набора базовых токенов — отдельных символов.\n",
        "- Анализируется тексты для поиска самых частых повторяющихся пар символов или последовательностей.\n",
        "- Часто встречающиеся пары сливаются в новый токен (подслово).\n",
        "- Повторяется процесс, постепенно создавая словарь из подслов, которые могут быть целыми словами, корнями или суффиксами.\n",
        "- Подход гибридной сегментации, позволяющий разбивать редкие и сложные слова на составные части, поддерживая баланс между размером словаря и покрытием языка."
      ],
      "metadata": {
        "id": "mgE2bQFXv0MG"
      }
    }
  ],
  "metadata": {
    "colab": {
      "provenance": [],
      "include_colab_link": true
    },
    "kernelspec": {
      "display_name": "Python 3",
      "name": "python3"
    },
    "language_info": {
      "name": "python"
    }
  },
  "nbformat": 4,
  "nbformat_minor": 0
}